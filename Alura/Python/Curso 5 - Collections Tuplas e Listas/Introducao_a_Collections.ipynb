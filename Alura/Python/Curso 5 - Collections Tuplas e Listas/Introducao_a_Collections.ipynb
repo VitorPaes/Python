{
  "nbformat": 4,
  "nbformat_minor": 0,
  "metadata": {
    "colab": {
      "name": "Introducao a Collections",
      "provenance": [],
      "collapsed_sections": [],
      "authorship_tag": "ABX9TyM/067cCJkHEJi5guktOQgz",
      "include_colab_link": true
    },
    "kernelspec": {
      "name": "python3",
      "display_name": "Python 3"
    },
    "language_info": {
      "name": "python"
    }
  },
  "cells": [
    {
      "cell_type": "markdown",
      "metadata": {
        "id": "view-in-github",
        "colab_type": "text"
      },
      "source": [
        "<a href=\"https://colab.research.google.com/github/VitorPaes/Python/blob/master/Alura/Python/Curso%205%20-%20Collections%20Tuplas%20e%20Listas/Introducao_a_Collections.ipynb\" target=\"_parent\"><img src=\"https://colab.research.google.com/assets/colab-badge.svg\" alt=\"Open In Colab\"/></a>"
      ]
    },
    {
      "cell_type": "code",
      "execution_count": 2,
      "metadata": {
        "colab": {
          "base_uri": "https://localhost:8080/"
        },
        "id": "ImumpcU82GzC",
        "outputId": "958ccf41-d754-42d8-fe7c-dc7791e76101"
      },
      "outputs": [
        {
          "output_type": "stream",
          "name": "stdout",
          "text": [
            "39\n"
          ]
        }
      ],
      "source": [
        "idade1 = 39\n",
        "idade2 = 30\n",
        "idade3 = 27\n",
        "idade4 = 18\n",
        "\n",
        "print(idade1)"
      ]
    },
    {
      "cell_type": "code",
      "source": [
        "idade = [39,30,27,18]"
      ],
      "metadata": {
        "id": "EqNrrcdw2wLK"
      },
      "execution_count": 3,
      "outputs": []
    },
    {
      "cell_type": "markdown",
      "source": [
        "type(idade)"
      ],
      "metadata": {
        "id": "3yIV4gEY25y1"
      }
    },
    {
      "cell_type": "code",
      "source": [
        "idade[0]"
      ],
      "metadata": {
        "colab": {
          "base_uri": "https://localhost:8080/"
        },
        "id": "rm60sjsQ3Hex",
        "outputId": "8525313d-8f56-4d2f-9943-41e73ab1c584"
      },
      "execution_count": 4,
      "outputs": [
        {
          "output_type": "execute_result",
          "data": {
            "text/plain": [
              "39"
            ]
          },
          "metadata": {},
          "execution_count": 4
        }
      ]
    },
    {
      "cell_type": "code",
      "source": [
        "idade.append(14)"
      ],
      "metadata": {
        "id": "4LUBLvl66cQX"
      },
      "execution_count": null,
      "outputs": []
    },
    {
      "cell_type": "code",
      "source": [
        "idade.remove(30)"
      ],
      "metadata": {
        "id": "ALaDjK0I6Vz6"
      },
      "execution_count": 6,
      "outputs": []
    },
    {
      "cell_type": "code",
      "source": [
        "idade.clear()"
      ],
      "metadata": {
        "id": "EetcvBrP62IH"
      },
      "execution_count": null,
      "outputs": []
    },
    {
      "cell_type": "code",
      "source": [
        "28 in idade"
      ],
      "metadata": {
        "id": "pwX5ob6566eA",
        "colab": {
          "base_uri": "https://localhost:8080/"
        },
        "outputId": "8f68ce92-b43c-49cd-d7e5-e1b0caf57080"
      },
      "execution_count": 7,
      "outputs": [
        {
          "output_type": "execute_result",
          "data": {
            "text/plain": [
              "False"
            ]
          },
          "metadata": {},
          "execution_count": 7
        }
      ]
    },
    {
      "cell_type": "code",
      "source": [
        "idade = [39,30,27,18]"
      ],
      "metadata": {
        "id": "glzEiDEA9dI6"
      },
      "execution_count": 8,
      "outputs": []
    },
    {
      "cell_type": "code",
      "source": [
        "idade.extend([1,2])"
      ],
      "metadata": {
        "id": "U53NCES4-LDi"
      },
      "execution_count": 11,
      "outputs": []
    },
    {
      "cell_type": "code",
      "source": [
        "idade"
      ],
      "metadata": {
        "colab": {
          "base_uri": "https://localhost:8080/"
        },
        "id": "mh4G03Ir-WD7",
        "outputId": "b0fdb336-dd58-46d0-a3e4-37f50244b42a"
      },
      "execution_count": 12,
      "outputs": [
        {
          "output_type": "execute_result",
          "data": {
            "text/plain": [
              "[39, 30, 27, 18, 1, 2, 1, 2]"
            ]
          },
          "metadata": {},
          "execution_count": 12
        }
      ]
    },
    {
      "cell_type": "code",
      "source": [
        "for idades in idade:\n",
        "  print(idades + 1)"
      ],
      "metadata": {
        "colab": {
          "base_uri": "https://localhost:8080/"
        },
        "id": "rgKAe8bi-k1m",
        "outputId": "c9f68f07-2496-47ae-ae51-f284e3e994e6"
      },
      "execution_count": 17,
      "outputs": [
        {
          "output_type": "stream",
          "name": "stdout",
          "text": [
            "40\n",
            "31\n",
            "28\n",
            "19\n",
            "2\n",
            "3\n",
            "2\n",
            "3\n"
          ]
        }
      ]
    },
    {
      "cell_type": "code",
      "source": [
        "idade_ano_que_vem = []\n",
        "for idades in idade:\n",
        "  idade_ano_que_vem.append(idades+1)\n",
        "idade_ano_que_vem"
      ],
      "metadata": {
        "colab": {
          "base_uri": "https://localhost:8080/"
        },
        "id": "c53W0fBo-nVP",
        "outputId": "b1e9db8b-025e-4213-e8d9-0b99583eb33e"
      },
      "execution_count": 19,
      "outputs": [
        {
          "output_type": "execute_result",
          "data": {
            "text/plain": [
              "[40, 31, 28, 19, 2, 3, 2, 3]"
            ]
          },
          "metadata": {},
          "execution_count": 19
        }
      ]
    },
    {
      "cell_type": "markdown",
      "source": [
        "#List comprehension\n"
      ],
      "metadata": {
        "id": "TDoXQhdnAd_l"
      }
    },
    {
      "cell_type": "code",
      "source": [
        "idade_ano_que_vem = [(idades+1) for idades in idade]\n",
        "idade_ano_que_vem"
      ],
      "metadata": {
        "colab": {
          "base_uri": "https://localhost:8080/"
        },
        "id": "bBujrsPl_i7I",
        "outputId": "5070ac17-4ac3-4440-e407-ba779a834bd9"
      },
      "execution_count": 25,
      "outputs": [
        {
          "output_type": "execute_result",
          "data": {
            "text/plain": [
              "[40, 31, 28, 19, 2, 3, 2, 3]"
            ]
          },
          "metadata": {},
          "execution_count": 25
        }
      ]
    },
    {
      "cell_type": "code",
      "source": [
        "[idades for idades in idade if idades > 21]"
      ],
      "metadata": {
        "colab": {
          "base_uri": "https://localhost:8080/"
        },
        "id": "UNXg-JOG_xLU",
        "outputId": "e055e8bc-c659-4b40-c282-bcb58c9b7072"
      },
      "execution_count": 26,
      "outputs": [
        {
          "output_type": "execute_result",
          "data": {
            "text/plain": [
              "[39, 30, 27]"
            ]
          },
          "metadata": {},
          "execution_count": 26
        }
      ]
    },
    {
      "cell_type": "code",
      "source": [
        "def faz_processamnto_de_visu(lista):\n",
        "  print(len(lista))"
      ],
      "metadata": {
        "id": "nT2xxTiRAmWr"
      },
      "execution_count": 28,
      "outputs": []
    },
    {
      "cell_type": "code",
      "source": [
        "faz_processamnto_de_visu(idade)\n",
        "idade"
      ],
      "metadata": {
        "colab": {
          "base_uri": "https://localhost:8080/"
        },
        "id": "-N6Yy-4XAxLF",
        "outputId": "727da1c9-cb4a-43bc-de1a-f36f67e2d806"
      },
      "execution_count": 31,
      "outputs": [
        {
          "output_type": "stream",
          "name": "stdout",
          "text": [
            "8\n"
          ]
        },
        {
          "output_type": "execute_result",
          "data": {
            "text/plain": [
              "[39, 30, 27, 18, 1, 2, 1, 2]"
            ]
          },
          "metadata": {},
          "execution_count": 31
        }
      ]
    },
    {
      "cell_type": "code",
      "source": [
        ""
      ],
      "metadata": {
        "id": "EOzA03kaA3X-"
      },
      "execution_count": null,
      "outputs": []
    }
  ]
}