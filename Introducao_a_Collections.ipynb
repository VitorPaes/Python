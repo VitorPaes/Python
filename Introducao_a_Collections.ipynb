{
  "nbformat": 4,
  "nbformat_minor": 0,
  "metadata": {
    "colab": {
      "name": "Introducao a Collections",
      "provenance": [],
      "authorship_tag": "ABX9TyMGQQiJzALXieO6IkoVvCsO",
      "include_colab_link": true
    },
    "kernelspec": {
      "name": "python3",
      "display_name": "Python 3"
    },
    "language_info": {
      "name": "python"
    }
  },
  "cells": [
    {
      "cell_type": "markdown",
      "metadata": {
        "id": "view-in-github",
        "colab_type": "text"
      },
      "source": [
        "<a href=\"https://colab.research.google.com/github/VitorPaes/Python/blob/master/Introducao_a_Collections.ipynb\" target=\"_parent\"><img src=\"https://colab.research.google.com/assets/colab-badge.svg\" alt=\"Open In Colab\"/></a>"
      ]
    },
    {
      "cell_type": "code",
      "execution_count": 3,
      "metadata": {
        "colab": {
          "base_uri": "https://localhost:8080/"
        },
        "id": "ImumpcU82GzC",
        "outputId": "c34d593c-aa5a-42f4-f9e9-f007b52f4440"
      },
      "outputs": [
        {
          "output_type": "stream",
          "name": "stdout",
          "text": [
            "39\n"
          ]
        }
      ],
      "source": [
        "idade1 = 39\n",
        "idade2 = 30\n",
        "idade3 = 27\n",
        "idade4 = 18\n",
        "\n",
        "print(idade1)"
      ]
    },
    {
      "cell_type": "code",
      "source": [
        "idade = [39,30,27,18]"
      ],
      "metadata": {
        "id": "EqNrrcdw2wLK"
      },
      "execution_count": 4,
      "outputs": []
    },
    {
      "cell_type": "markdown",
      "source": [
        "type(idade)"
      ],
      "metadata": {
        "id": "3yIV4gEY25y1"
      }
    },
    {
      "cell_type": "code",
      "source": [
        "idade[0]"
      ],
      "metadata": {
        "colab": {
          "base_uri": "https://localhost:8080/"
        },
        "id": "rm60sjsQ3Hex",
        "outputId": "64e13436-2f08-43b8-b99e-0c6c1cb73f89"
      },
      "execution_count": 6,
      "outputs": [
        {
          "output_type": "execute_result",
          "data": {
            "text/plain": [
              "39"
            ]
          },
          "metadata": {},
          "execution_count": 6
        }
      ]
    },
    {
      "cell_type": "code",
      "source": [
        "idade.append(15)"
      ],
      "metadata": {
        "id": "ZHJZ2YYT3MMU"
      },
      "execution_count": 7,
      "outputs": []
    }
  ]
}